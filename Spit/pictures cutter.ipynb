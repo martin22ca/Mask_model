{
 "cells": [
  {
   "cell_type": "markdown",
   "id": "c22cebd3",
   "metadata": {},
   "source": [
    "# Imports libraries"
   ]
  },
  {
   "cell_type": "code",
   "execution_count": 1,
   "id": "1959e243",
   "metadata": {},
   "outputs": [],
   "source": [
    "import matplotlib.pyplot as plt\n",
    "import time\n",
    "import numpy as np\n",
    "import pandas as pd\n",
    "from tqdm import tqdm\n",
    "import seaborn as sns\n",
    "import cv2\n",
    "import pandas_read_xml as pdx\n",
    "import os\n",
    "from sklearn.model_selection import train_test_split\n",
    "from pandas_read_xml import flatten, fully_flatten, auto_separate_tables\n",
    "import zipfile\n",
    "import dlib\n",
    "from math import sqrt"
   ]
  },
  {
   "cell_type": "markdown",
   "id": "7fd5b5c3",
   "metadata": {},
   "source": [
    "# Create dataset"
   ]
  },
  {
   "cell_type": "code",
   "execution_count": 2,
   "id": "9f1022e7",
   "metadata": {},
   "outputs": [],
   "source": [
    "dfo = pd.DataFrame()\n",
    "dfo[\"img_path\"] = \" \"\n",
    "dfo[\"x_max\"] = \" \"\n",
    "dfo[\"x_min\"] = \" \"\n",
    "dfo[\"y_min\"] = \" \"\n",
    "dfo[\"y_max\"] = \" \"\n",
    "dfo[\"resolution\"] = \" \"\n",
    "dfo[\"type\"] = \" \""
   ]
  },
  {
   "cell_type": "code",
   "execution_count": 3,
   "id": "cb00e188",
   "metadata": {},
   "outputs": [
    {
     "name": "stderr",
     "output_type": "stream",
     "text": [
      "100%|██████████| 853/853 [00:28<00:00, 29.68it/s]\n"
     ]
    }
   ],
   "source": [
    "numb_of_pic = len(os.listdir(\"./annotations\")) \n",
    "tot = 0\n",
    "\n",
    "for i in tqdm(range(numb_of_pic)):\n",
    "    path_def = './annotations/maksssksksss'\n",
    "    path = path_def + str(i) +'.xml'\n",
    "    \n",
    "    df = pdx.read_xml(path)\n",
    "    for i in range(4):\n",
    "        df = df.pipe(flatten)\n",
    "    \n",
    "    faces = df.shape[0]\n",
    "    for j in range(faces):\n",
    "        \n",
    "        x_min = int(df['annotation|object|bndbox|xmin'][j])\n",
    "        y_min = int(df['annotation|object|bndbox|ymin'][j])\n",
    "        x_max = int(df['annotation|object|bndbox|xmax'][j])\n",
    "        y_max = int(df['annotation|object|bndbox|ymax'][j])\n",
    "        res = (x_max - x_min) * (y_max - y_min)\n",
    "        path_to_img = df['annotation|filename'][j]\n",
    "        \n",
    "        tag = df['annotation|object|name'][j]\n",
    "        \n",
    "        dfo.loc[tot] = [path_to_img, x_max,x_min, y_min, y_max,res, tag]\n",
    "        tot=tot+1\n"
   ]
  },
  {
   "cell_type": "code",
   "execution_count": null,
   "id": "474e3c90",
   "metadata": {},
   "outputs": [],
   "source": [
    "dfo_grp = dfo.groupby('type').agg(['count','median'])\n",
    "\n",
    "dfo_grp['resolution']\n",
    "fig, axs = plt.subplots(1,figsize=(15,8))\n",
    "\n",
    "sns.barplot(x=dfo_grp['resolution'].index,y=dfo_grp['resolution']['count'],ax=axs)"
   ]
  },
  {
   "cell_type": "markdown",
   "id": "3f3a2e80",
   "metadata": {},
   "source": [
    "# Analisis"
   ]
  },
  {
   "cell_type": "code",
   "execution_count": 4,
   "id": "26b6e7c5",
   "metadata": {
    "scrolled": true
   },
   "outputs": [
    {
     "name": "stdout",
     "output_type": "stream",
     "text": [
      "Resolusion media: \n",
      " type\n",
      "mask_weared_incorrect    1800.0\n",
      "with_mask                1331.0\n",
      "without_mask             1221.0\n",
      "Name: median, dtype: float64 \n",
      "\n"
     ]
    },
    {
     "name": "stderr",
     "output_type": "stream",
     "text": [
      "/tmp/ipykernel_107066/4196816882.py:4: FutureWarning: ['img_path'] did not aggregate successfully. If any error is raised this will raise in a future version of pandas. Drop these columns/ops to avoid this warning.\n",
      "  dfo_grp = dfo.groupby('type').agg(['count','median'])\n"
     ]
    }
   ],
   "source": [
    "dfo = dfo[dfo.resolution >500]\n",
    "\n",
    "\n",
    "dfo_grp = dfo.groupby('type').agg(['count','median'])\n",
    "print('Resolusion media:','\\n',dfo_grp['resolution']['median'],'\\n')"
   ]
  },
  {
   "cell_type": "code",
   "execution_count": null,
   "id": "48a9fe35",
   "metadata": {},
   "outputs": [],
   "source": [
    "fig, axs = plt.subplots(1,figsize=(16,8))\n",
    "sns.scatterplot(x=dfo.x_max - dfo.x_min ,y=dfo.y_max - dfo.y_min,ax=axs,hue=dfo.type,palette='husl')"
   ]
  },
  {
   "cell_type": "code",
   "execution_count": 6,
   "id": "db6d54f6",
   "metadata": {},
   "outputs": [],
   "source": [
    "labels= dfo.drop(['img_path',\"x_max\",\"x_min\",\"y_min\",\"y_max\",'resolution'], axis=1)\n",
    "data = dfo.drop(['type'], axis=1)"
   ]
  },
  {
   "cell_type": "code",
   "execution_count": 7,
   "id": "f2866251",
   "metadata": {},
   "outputs": [],
   "source": [
    "x_train, x_test, y_train, y_test = train_test_split(data,labels, test_size=0.2)\n",
    "x_train, x_val, y_train, y_val = train_test_split(x_train,y_train, test_size=0.2)"
   ]
  },
  {
   "cell_type": "markdown",
   "id": "3366f16a",
   "metadata": {},
   "source": [
    "# Split data"
   ]
  },
  {
   "cell_type": "code",
   "execution_count": null,
   "id": "1f48c516",
   "metadata": {},
   "outputs": [],
   "source": [
    "Data_dir = '../Data/3_class_init/'"
   ]
  },
  {
   "cell_type": "code",
   "execution_count": null,
   "id": "e60da019",
   "metadata": {
    "scrolled": true
   },
   "outputs": [],
   "source": [
    "def save_into(x,y,base_dic,fol): \n",
    "    tot=0\n",
    "    try:\n",
    "        write_dic = base_dic + fol + '/'\n",
    "        os.mkdir(base_dic+fol)\n",
    "        os.mkdir(write_dic+'with_mask')\n",
    "        os.mkdir(write_dic+'without_mask')\n",
    "        os.mkdir(write_dic+'bad_mask')\n",
    "    except:\n",
    "        pass\n",
    "        \n",
    "    num = x.shape[0] -1\n",
    "    \n",
    "    for i in tqdm(range(num)):\n",
    "        img_path = x.iloc[i][0]\n",
    "        x_max = x.iloc[i][1]\n",
    "        x_min = x.iloc[i][2]\n",
    "        y_min = x.iloc[i][3]\n",
    "        y_max = x.iloc[i][4]\n",
    "        tag =y.iloc[i][0]\n",
    "        \n",
    "        img = cv2.imread('./images/'+img_path)\n",
    "        crop = img[y_min:y_max, x_min:x_max]\n",
    "        if(tag == 'with_mask'):\n",
    "            cv2.imwrite(write_dic+ 'with_mask/' +str(tot)+'.png',crop)\n",
    "        elif(tag == 'without_mask'):\n",
    "            cv2.imwrite(write_dic+ 'without_mask/' +str(tot)+'.png',crop)\n",
    "        else:\n",
    "            cv2.imwrite(write_dic+ 'bad_mask/' +str(tot)+'.png',crop)\n",
    "        tot =tot +1\n",
    "        \n",
    "save_into(x_train,y_train,Data_dir,'train')\n",
    "save_into(x_test,y_test,Data_dir,'test')\n",
    "save_into(x_val,y_val,Data_dir,'validation')"
   ]
  },
  {
   "cell_type": "markdown",
   "id": "7de2c1a0",
   "metadata": {},
   "source": [
    "# Faces in the Wild"
   ]
  },
  {
   "cell_type": "code",
   "execution_count": 11,
   "id": "bc0aab37",
   "metadata": {
    "scrolled": true
   },
   "outputs": [],
   "source": [
    "base = './lfw'\n",
    "tot = 0\n",
    "arr = os.listdir(base)\n",
    "detector = dlib.get_frontal_face_detector()\n",
    "\n",
    "for i in arr:\n",
    "    per_dir = (base+'/'+i)\n",
    "    person = os.listdir(per_dir)\n",
    "    \n",
    "    for j in person:\n",
    "        img = cv2.imread(per_dir+'/'+j)\n",
    "        gray = cv2.cvtColor(img, cv2.COLOR_BGR2GRAY)\n",
    "        dets = detector(gray)\n",
    "        \n",
    "        for face in dets:\n",
    "            x= face.left()\n",
    "            y= face.top()\n",
    "            w= face.width()\n",
    "            h= face.height()\n",
    "            crop = img[y:y+h, x:x+w]\n",
    "            try:\n",
    "                cv2.imwrite('./faces_wild/'+str(tot)+j, crop)\n",
    "                tot = tot +1\n",
    "            except:\n",
    "                pass\n"
   ]
  },
  {
   "cell_type": "code",
   "execution_count": 13,
   "id": "1eea7697",
   "metadata": {},
   "outputs": [
    {
     "name": "stdout",
     "output_type": "stream",
     "text": [
      "13552\n"
     ]
    }
   ],
   "source": [
    "arr = os.listdir('./faces_wild')\n",
    "tot = 0\n",
    "\n",
    "try(os.mkdir('../Data/best_data'))\n",
    "\n",
    "for i in range(len(s.listdir(Data_dir + '/train/with_mask'))):\n",
    "    img = cv2.imread(arr[tot])\n",
    "    cv2.imwrite(Data_dir + '/train/without_mask/'+arr[tot],img)\n",
    "    tot = tot +1\n",
    "    \n",
    "for i in range(len(s.listdir(Data_dir + '/test/with_mask'))):\n",
    "    img = cv2.imread(arr[tot])\n",
    "    cv2.imwrite(Data_dir + '/test/without_mask/'+arr[tot],img)\n",
    "    tot = tot +1\n",
    "    \n",
    "for i in range(len(s.listdir(Data_dir + '/validation/with_mask'))):\n",
    "    img = cv2.imread(arr[tot])\n",
    "    cv2.imwrite(Data_dir + '/validation/without_mask/'+arr[tot],img)\n",
    "    tot = tot +1"
   ]
  }
 ],
 "metadata": {
  "kernelspec": {
   "display_name": "Python 3 (ipykernel)",
   "language": "python",
   "name": "python3"
  },
  "language_info": {
   "codemirror_mode": {
    "name": "ipython",
    "version": 3
   },
   "file_extension": ".py",
   "mimetype": "text/x-python",
   "name": "python",
   "nbconvert_exporter": "python",
   "pygments_lexer": "ipython3",
   "version": "3.9.12"
  }
 },
 "nbformat": 4,
 "nbformat_minor": 5
}
